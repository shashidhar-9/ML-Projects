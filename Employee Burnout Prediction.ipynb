{
  "metadata": {
    "kernelspec": {
      "language": "python",
      "display_name": "Python 3",
      "name": "python3"
    },
    "language_info": {
      "name": "python",
      "version": "3.7.9",
      "mimetype": "text/x-python",
      "codemirror_mode": {
        "name": "ipython",
        "version": 3
      },
      "pygments_lexer": "ipython3",
      "nbconvert_exporter": "python",
      "file_extension": ".py"
    },
    "colab": {
      "provenance": []
    }
  },
  "nbformat_minor": 0,
  "nbformat": 4,
  "cells": [
    {
      "cell_type": "markdown",
      "source": [
        "\n",
        "## Employee Burnout Prediction  \n",
        "\n",
        "Given *data about employees*, let's try to predict the **burnout rate** of a given employee.\n",
        "\n",
        "We will use a variety of regression models to make our predictions."
      ],
      "metadata": {
        "_uuid": "8f2839f25d086af736a60e9eeb907d3b93b6e0e5",
        "_cell_guid": "b1076dfc-b9ad-4769-8c92-a6c4dae69d19",
        "trusted": true,
        "id": "upZasWxpVuqE"
      }
    },
    {
      "cell_type": "markdown",
      "source": [
        "# Getting Started"
      ],
      "metadata": {
        "id": "cYKDh39xVuqG"
      }
    },
    {
      "cell_type": "code",
      "source": [
        "import numpy as np\n",
        "import pandas as pd\n",
        "\n",
        "from sklearn.model_selection import train_test_split\n",
        "from sklearn.preprocessing import StandardScaler\n",
        "\n",
        "from sklearn.linear_model import LinearRegression, Ridge, Lasso\n",
        "from sklearn.neighbors import KNeighborsRegressor\n",
        "from sklearn.neural_network import MLPRegressor\n",
        "from sklearn.svm import LinearSVR, SVR\n",
        "from sklearn.tree import DecisionTreeRegressor\n",
        "from sklearn.ensemble import RandomForestRegressor, GradientBoostingRegressor\n",
        "from xgboost import XGBRegressor\n",
        "from lightgbm import LGBMRegressor\n",
        "from catboost import CatBoostRegressor\n",
        "\n",
        "import warnings\n",
        "warnings.filterwarnings(action='ignore')"
      ],
      "metadata": {
        "execution": {
          "iopub.status.busy": "2023-10-03T20:33:33.506975Z",
          "iopub.execute_input": "2023-10-03T20:33:33.507354Z",
          "iopub.status.idle": "2023-10-03T20:33:35.311147Z",
          "shell.execute_reply.started": "2023-10-03T20:33:33.507274Z",
          "shell.execute_reply": "2023-10-03T20:33:35.310385Z"
        },
        "trusted": true,
        "id": "LcqQxencVuqH",
        "outputId": "9c635078-31ad-4d9e-853d-580932787e19"
      },
      "execution_count": null,
      "outputs": [
        {
          "output_type": "display_data",
          "data": {
            "text/plain": "<IPython.core.display.HTML object>",
            "text/html": "<style type='text/css'>\n.datatable table.frame { margin-bottom: 0; }\n.datatable table.frame thead { border-bottom: none; }\n.datatable table.frame tr.coltypes td {  color: #FFFFFF;  line-height: 6px;  padding: 0 0.5em;}\n.datatable .bool    { background: #DDDD99; }\n.datatable .object  { background: #565656; }\n.datatable .int     { background: #5D9E5D; }\n.datatable .float   { background: #4040CC; }\n.datatable .str     { background: #CC4040; }\n.datatable .row_index {  background: var(--jp-border-color3);  border-right: 1px solid var(--jp-border-color0);  color: var(--jp-ui-font-color3);  font-size: 9px;}\n.datatable .frame tr.coltypes .row_index {  background: var(--jp-border-color0);}\n.datatable th:nth-child(2) { padding-left: 12px; }\n.datatable .hellipsis {  color: var(--jp-cell-editor-border-color);}\n.datatable .vellipsis {  background: var(--jp-layout-color0);  color: var(--jp-cell-editor-border-color);}\n.datatable .na {  color: var(--jp-cell-editor-border-color);  font-size: 80%;}\n.datatable .footer { font-size: 9px; }\n.datatable .frame_dimensions {  background: var(--jp-border-color3);  border-top: 1px solid var(--jp-border-color0);  color: var(--jp-ui-font-color3);  display: inline-block;  opacity: 0.6;  padding: 1px 10px 1px 5px;}\n</style>\n"
          },
          "metadata": {}
        }
      ]
    },
    {
      "cell_type": "code",
      "source": [
        "data = pd.read_csv('../input/are-your-employees-burning-out/train.csv')"
      ],
      "metadata": {
        "execution": {
          "iopub.status.busy": "2023-10-03T20:33:35.315152Z",
          "iopub.execute_input": "2023-10-03T20:33:35.316832Z",
          "iopub.status.idle": "2023-10-03T20:33:35.399179Z",
          "shell.execute_reply.started": "2023-10-03T20:33:35.316799Z",
          "shell.execute_reply": "2023-10-03T20:33:35.398457Z"
        },
        "trusted": true,
        "id": "UisAAWtEVuqI"
      },
      "execution_count": null,
      "outputs": []
    },
    {
      "cell_type": "code",
      "source": [
        "data"
      ],
      "metadata": {
        "execution": {
          "iopub.status.busy": "2023-10-03T20:33:35.402827Z",
          "iopub.execute_input": "2023-10-03T20:33:35.404465Z",
          "iopub.status.idle": "2023-10-03T20:33:35.439863Z",
          "shell.execute_reply.started": "2023-10-03T20:33:35.404432Z",
          "shell.execute_reply": "2023-10-03T20:33:35.439186Z"
        },
        "trusted": true,
        "id": "SEENZwHjVuqJ",
        "outputId": "77990e91-f9da-4f70-8a0c-310af91666be"
      },
      "execution_count": null,
      "outputs": [
        {
          "execution_count": 3,
          "output_type": "execute_result",
          "data": {
            "text/plain": "                    Employee ID Date of Joining  Gender Company Type  \\\n0      fffe32003000360033003200      2008-09-30  Female      Service   \n1          fffe3700360033003500      2008-11-30    Male      Service   \n2      fffe31003300320037003900      2008-03-10  Female      Product   \n3      fffe32003400380032003900      2008-11-03    Male      Service   \n4      fffe31003900340031003600      2008-07-24  Female      Service   \n...                         ...             ...     ...          ...   \n22745  fffe31003500370039003100      2008-12-30  Female      Service   \n22746  fffe33003000350031003800      2008-01-19  Female      Product   \n22747          fffe390032003000      2008-11-05    Male      Service   \n22748  fffe33003300320036003900      2008-01-10  Female      Service   \n22749      fffe3400350031003800      2008-01-06    Male      Product   \n\n      WFH Setup Available  Designation  Resource Allocation  \\\n0                      No          2.0                  3.0   \n1                     Yes          1.0                  2.0   \n2                     Yes          2.0                  NaN   \n3                     Yes          1.0                  1.0   \n4                      No          3.0                  7.0   \n...                   ...          ...                  ...   \n22745                  No          1.0                  3.0   \n22746                 Yes          3.0                  6.0   \n22747                 Yes          3.0                  7.0   \n22748                  No          2.0                  5.0   \n22749                  No          3.0                  6.0   \n\n       Mental Fatigue Score  Burn Rate  \n0                       3.8       0.16  \n1                       5.0       0.36  \n2                       5.8       0.49  \n3                       2.6       0.20  \n4                       6.9       0.52  \n...                     ...        ...  \n22745                   NaN       0.41  \n22746                   6.7       0.59  \n22747                   NaN       0.72  \n22748                   5.9       0.52  \n22749                   7.8       0.61  \n\n[22750 rows x 9 columns]",
            "text/html": "<div>\n<style scoped>\n    .dataframe tbody tr th:only-of-type {\n        vertical-align: middle;\n    }\n\n    .dataframe tbody tr th {\n        vertical-align: top;\n    }\n\n    .dataframe thead th {\n        text-align: right;\n    }\n</style>\n<table border=\"1\" class=\"dataframe\">\n  <thead>\n    <tr style=\"text-align: right;\">\n      <th></th>\n      <th>Employee ID</th>\n      <th>Date of Joining</th>\n      <th>Gender</th>\n      <th>Company Type</th>\n      <th>WFH Setup Available</th>\n      <th>Designation</th>\n      <th>Resource Allocation</th>\n      <th>Mental Fatigue Score</th>\n      <th>Burn Rate</th>\n    </tr>\n  </thead>\n  <tbody>\n    <tr>\n      <th>0</th>\n      <td>fffe32003000360033003200</td>\n      <td>2008-09-30</td>\n      <td>Female</td>\n      <td>Service</td>\n      <td>No</td>\n      <td>2.0</td>\n      <td>3.0</td>\n      <td>3.8</td>\n      <td>0.16</td>\n    </tr>\n    <tr>\n      <th>1</th>\n      <td>fffe3700360033003500</td>\n      <td>2008-11-30</td>\n      <td>Male</td>\n      <td>Service</td>\n      <td>Yes</td>\n      <td>1.0</td>\n      <td>2.0</td>\n      <td>5.0</td>\n      <td>0.36</td>\n    </tr>\n    <tr>\n      <th>2</th>\n      <td>fffe31003300320037003900</td>\n      <td>2008-03-10</td>\n      <td>Female</td>\n      <td>Product</td>\n      <td>Yes</td>\n      <td>2.0</td>\n      <td>NaN</td>\n      <td>5.8</td>\n      <td>0.49</td>\n    </tr>\n    <tr>\n      <th>3</th>\n      <td>fffe32003400380032003900</td>\n      <td>2008-11-03</td>\n      <td>Male</td>\n      <td>Service</td>\n      <td>Yes</td>\n      <td>1.0</td>\n      <td>1.0</td>\n      <td>2.6</td>\n      <td>0.20</td>\n    </tr>\n    <tr>\n      <th>4</th>\n      <td>fffe31003900340031003600</td>\n      <td>2008-07-24</td>\n      <td>Female</td>\n      <td>Service</td>\n      <td>No</td>\n      <td>3.0</td>\n      <td>7.0</td>\n      <td>6.9</td>\n      <td>0.52</td>\n    </tr>\n    <tr>\n      <th>...</th>\n      <td>...</td>\n      <td>...</td>\n      <td>...</td>\n      <td>...</td>\n      <td>...</td>\n      <td>...</td>\n      <td>...</td>\n      <td>...</td>\n      <td>...</td>\n    </tr>\n    <tr>\n      <th>22745</th>\n      <td>fffe31003500370039003100</td>\n      <td>2008-12-30</td>\n      <td>Female</td>\n      <td>Service</td>\n      <td>No</td>\n      <td>1.0</td>\n      <td>3.0</td>\n      <td>NaN</td>\n      <td>0.41</td>\n    </tr>\n    <tr>\n      <th>22746</th>\n      <td>fffe33003000350031003800</td>\n      <td>2008-01-19</td>\n      <td>Female</td>\n      <td>Product</td>\n      <td>Yes</td>\n      <td>3.0</td>\n      <td>6.0</td>\n      <td>6.7</td>\n      <td>0.59</td>\n    </tr>\n    <tr>\n      <th>22747</th>\n      <td>fffe390032003000</td>\n      <td>2008-11-05</td>\n      <td>Male</td>\n      <td>Service</td>\n      <td>Yes</td>\n      <td>3.0</td>\n      <td>7.0</td>\n      <td>NaN</td>\n      <td>0.72</td>\n    </tr>\n    <tr>\n      <th>22748</th>\n      <td>fffe33003300320036003900</td>\n      <td>2008-01-10</td>\n      <td>Female</td>\n      <td>Service</td>\n      <td>No</td>\n      <td>2.0</td>\n      <td>5.0</td>\n      <td>5.9</td>\n      <td>0.52</td>\n    </tr>\n    <tr>\n      <th>22749</th>\n      <td>fffe3400350031003800</td>\n      <td>2008-01-06</td>\n      <td>Male</td>\n      <td>Product</td>\n      <td>No</td>\n      <td>3.0</td>\n      <td>6.0</td>\n      <td>7.8</td>\n      <td>0.61</td>\n    </tr>\n  </tbody>\n</table>\n<p>22750 rows × 9 columns</p>\n</div>"
          },
          "metadata": {}
        }
      ]
    },
    {
      "cell_type": "code",
      "source": [
        "data.info()"
      ],
      "metadata": {
        "execution": {
          "iopub.status.busy": "2023-10-03T20:33:35.443023Z",
          "iopub.execute_input": "2023-10-03T20:33:35.444801Z",
          "iopub.status.idle": "2023-10-03T20:33:35.469368Z",
          "shell.execute_reply.started": "2023-10-03T20:33:35.444768Z",
          "shell.execute_reply": "2023-10-03T20:33:35.468703Z"
        },
        "trusted": true,
        "id": "kJp3mjhoVuqJ",
        "outputId": "7137a41b-5b1d-4e85-a99e-b3e0bceade96"
      },
      "execution_count": null,
      "outputs": [
        {
          "name": "stdout",
          "text": "<class 'pandas.core.frame.DataFrame'>\nRangeIndex: 22750 entries, 0 to 22749\nData columns (total 9 columns):\n #   Column                Non-Null Count  Dtype  \n---  ------                --------------  -----  \n 0   Employee ID           22750 non-null  object \n 1   Date of Joining       22750 non-null  object \n 2   Gender                22750 non-null  object \n 3   Company Type          22750 non-null  object \n 4   WFH Setup Available   22750 non-null  object \n 5   Designation           22750 non-null  float64\n 6   Resource Allocation   21369 non-null  float64\n 7   Mental Fatigue Score  20633 non-null  float64\n 8   Burn Rate             21626 non-null  float64\ndtypes: float64(4), object(5)\nmemory usage: 1.6+ MB\n",
          "output_type": "stream"
        }
      ]
    },
    {
      "cell_type": "markdown",
      "source": [
        "# Preprocessing"
      ],
      "metadata": {
        "id": "3DJ5TmrrVuqJ"
      }
    },
    {
      "cell_type": "code",
      "source": [
        "def preprocess_inputs(df):\n",
        "    df = df.copy()\n",
        "\n",
        "    # Drop Employee ID column\n",
        "    df = df.drop('Employee ID', axis=1)\n",
        "\n",
        "    # Drop rows with missing target values\n",
        "    missing_target_rows = df.loc[df['Burn Rate'].isna(), :].index\n",
        "    df = df.drop(missing_target_rows, axis=0).reset_index(drop=True)\n",
        "\n",
        "    # Fill remaining missing values with column means\n",
        "    for column in ['Resource Allocation', 'Mental Fatigue Score']:\n",
        "        df[column] = df[column].fillna(df[column].mean())\n",
        "\n",
        "    # Extract date features\n",
        "    df['Date of Joining'] = pd.to_datetime(df['Date of Joining'])\n",
        "    df['Join Month'] = df['Date of Joining'].apply(lambda x: x.month)\n",
        "    df['Join Day'] = df['Date of Joining'].apply(lambda x: x.day)\n",
        "    df = df.drop('Date of Joining', axis=1)\n",
        "\n",
        "    # Binary encoding\n",
        "    df['Gender'] = df['Gender'].replace({'Female': 0, 'Male': 1})\n",
        "    df['Company Type'] = df['Company Type'].replace({'Product': 0, 'Service': 1})\n",
        "    df['WFH Setup Available'] = df['WFH Setup Available'].replace({'No': 0, 'Yes': 1})\n",
        "\n",
        "    # Split df into X and y\n",
        "    y = df['Burn Rate']\n",
        "    X = df.drop('Burn Rate', axis=1)\n",
        "\n",
        "    # Train-test split\n",
        "    X_train, X_test, y_train, y_test = train_test_split(X, y, train_size=0.7, shuffle=True, random_state=1)\n",
        "\n",
        "    # Scale X\n",
        "    scaler = StandardScaler()\n",
        "    scaler.fit(X_train)\n",
        "    X_train = pd.DataFrame(scaler.transform(X_train), index=X_train.index, columns=X_train.columns)\n",
        "    X_test = pd.DataFrame(scaler.transform(X_test), index=X_test.index, columns=X_test.columns)\n",
        "\n",
        "    return X_train, X_test, y_train, y_test"
      ],
      "metadata": {
        "execution": {
          "iopub.status.busy": "2023-10-03T20:33:35.473303Z",
          "iopub.execute_input": "2023-10-03T20:33:35.474978Z",
          "iopub.status.idle": "2023-10-03T20:33:35.485462Z",
          "shell.execute_reply.started": "2023-10-03T20:33:35.474920Z",
          "shell.execute_reply": "2023-10-03T20:33:35.484821Z"
        },
        "trusted": true,
        "id": "dFaCOAizVuqK"
      },
      "execution_count": null,
      "outputs": []
    },
    {
      "cell_type": "code",
      "source": [
        "X_train, X_test, y_train, y_test = preprocess_inputs(data)"
      ],
      "metadata": {
        "execution": {
          "iopub.status.busy": "2023-10-03T20:33:35.489311Z",
          "iopub.execute_input": "2023-10-03T20:33:35.491248Z",
          "iopub.status.idle": "2023-10-03T20:33:35.708616Z",
          "shell.execute_reply.started": "2023-10-03T20:33:35.491086Z",
          "shell.execute_reply": "2023-10-03T20:33:35.707861Z"
        },
        "trusted": true,
        "id": "UnRjs0O8VuqK"
      },
      "execution_count": null,
      "outputs": []
    },
    {
      "cell_type": "code",
      "source": [
        "X_train"
      ],
      "metadata": {
        "execution": {
          "iopub.status.busy": "2023-10-03T20:33:35.712327Z",
          "iopub.execute_input": "2023-10-03T20:33:35.714078Z",
          "iopub.status.idle": "2023-10-03T20:33:35.735118Z",
          "shell.execute_reply.started": "2023-10-03T20:33:35.714017Z",
          "shell.execute_reply": "2023-10-03T20:33:35.734425Z"
        },
        "trusted": true,
        "id": "62OXp8cmVuqL",
        "outputId": "46f09a6c-e0ec-4a9b-c23f-3addf2af62ae"
      },
      "execution_count": null,
      "outputs": [
        {
          "execution_count": 7,
          "output_type": "execute_result",
          "data": {
            "text/plain": "         Gender  Company Type  WFH Setup Available  Designation  \\\n8275  -0.954022     -1.379211            -1.087295     0.725025   \n21284  1.048194      0.725052            -1.087295     1.604608   \n16802  1.048194      0.725052            -1.087295    -0.154557   \n3271   1.048194     -1.379211            -1.087295     1.604608   \n5302  -0.954022     -1.379211            -1.087295    -0.154557   \n...         ...           ...                  ...          ...   \n10955 -0.954022      0.725052            -1.087295    -0.154557   \n17289 -0.954022      0.725052             0.919713     0.725025   \n5192  -0.954022      0.725052             0.919713     0.725025   \n12172  1.048194     -1.379211             0.919713    -1.913723   \n235   -0.954022      0.725052            -1.087295    -1.913723   \n\n       Resource Allocation  Mental Fatigue Score  Join Month  Join Day  \n8275              0.768001              0.475128    0.433442 -0.649693  \n21284             1.270205              1.131455    1.596251 -0.536187  \n16802             0.768001              0.420434    1.305549  0.371860  \n3271              2.274612              1.733089    0.142739  1.620424  \n5302             -0.236406              0.475128    0.724144 -0.422682  \n...                    ...                   ...         ...       ...  \n10955             0.768001              0.803292   -1.020070 -1.444234  \n17289            -0.236406             -0.509363   -0.147963  0.712377  \n5192              0.265797             -1.165690    1.014847  0.031342  \n12172            -1.743017             -1.220384    0.433442 -1.671246  \n235              -1.743017             -2.861202   -0.729368  0.031342  \n\n[15138 rows x 8 columns]",
            "text/html": "<div>\n<style scoped>\n    .dataframe tbody tr th:only-of-type {\n        vertical-align: middle;\n    }\n\n    .dataframe tbody tr th {\n        vertical-align: top;\n    }\n\n    .dataframe thead th {\n        text-align: right;\n    }\n</style>\n<table border=\"1\" class=\"dataframe\">\n  <thead>\n    <tr style=\"text-align: right;\">\n      <th></th>\n      <th>Gender</th>\n      <th>Company Type</th>\n      <th>WFH Setup Available</th>\n      <th>Designation</th>\n      <th>Resource Allocation</th>\n      <th>Mental Fatigue Score</th>\n      <th>Join Month</th>\n      <th>Join Day</th>\n    </tr>\n  </thead>\n  <tbody>\n    <tr>\n      <th>8275</th>\n      <td>-0.954022</td>\n      <td>-1.379211</td>\n      <td>-1.087295</td>\n      <td>0.725025</td>\n      <td>0.768001</td>\n      <td>0.475128</td>\n      <td>0.433442</td>\n      <td>-0.649693</td>\n    </tr>\n    <tr>\n      <th>21284</th>\n      <td>1.048194</td>\n      <td>0.725052</td>\n      <td>-1.087295</td>\n      <td>1.604608</td>\n      <td>1.270205</td>\n      <td>1.131455</td>\n      <td>1.596251</td>\n      <td>-0.536187</td>\n    </tr>\n    <tr>\n      <th>16802</th>\n      <td>1.048194</td>\n      <td>0.725052</td>\n      <td>-1.087295</td>\n      <td>-0.154557</td>\n      <td>0.768001</td>\n      <td>0.420434</td>\n      <td>1.305549</td>\n      <td>0.371860</td>\n    </tr>\n    <tr>\n      <th>3271</th>\n      <td>1.048194</td>\n      <td>-1.379211</td>\n      <td>-1.087295</td>\n      <td>1.604608</td>\n      <td>2.274612</td>\n      <td>1.733089</td>\n      <td>0.142739</td>\n      <td>1.620424</td>\n    </tr>\n    <tr>\n      <th>5302</th>\n      <td>-0.954022</td>\n      <td>-1.379211</td>\n      <td>-1.087295</td>\n      <td>-0.154557</td>\n      <td>-0.236406</td>\n      <td>0.475128</td>\n      <td>0.724144</td>\n      <td>-0.422682</td>\n    </tr>\n    <tr>\n      <th>...</th>\n      <td>...</td>\n      <td>...</td>\n      <td>...</td>\n      <td>...</td>\n      <td>...</td>\n      <td>...</td>\n      <td>...</td>\n      <td>...</td>\n    </tr>\n    <tr>\n      <th>10955</th>\n      <td>-0.954022</td>\n      <td>0.725052</td>\n      <td>-1.087295</td>\n      <td>-0.154557</td>\n      <td>0.768001</td>\n      <td>0.803292</td>\n      <td>-1.020070</td>\n      <td>-1.444234</td>\n    </tr>\n    <tr>\n      <th>17289</th>\n      <td>-0.954022</td>\n      <td>0.725052</td>\n      <td>0.919713</td>\n      <td>0.725025</td>\n      <td>-0.236406</td>\n      <td>-0.509363</td>\n      <td>-0.147963</td>\n      <td>0.712377</td>\n    </tr>\n    <tr>\n      <th>5192</th>\n      <td>-0.954022</td>\n      <td>0.725052</td>\n      <td>0.919713</td>\n      <td>0.725025</td>\n      <td>0.265797</td>\n      <td>-1.165690</td>\n      <td>1.014847</td>\n      <td>0.031342</td>\n    </tr>\n    <tr>\n      <th>12172</th>\n      <td>1.048194</td>\n      <td>-1.379211</td>\n      <td>0.919713</td>\n      <td>-1.913723</td>\n      <td>-1.743017</td>\n      <td>-1.220384</td>\n      <td>0.433442</td>\n      <td>-1.671246</td>\n    </tr>\n    <tr>\n      <th>235</th>\n      <td>-0.954022</td>\n      <td>0.725052</td>\n      <td>-1.087295</td>\n      <td>-1.913723</td>\n      <td>-1.743017</td>\n      <td>-2.861202</td>\n      <td>-0.729368</td>\n      <td>0.031342</td>\n    </tr>\n  </tbody>\n</table>\n<p>15138 rows × 8 columns</p>\n</div>"
          },
          "metadata": {}
        }
      ]
    },
    {
      "cell_type": "code",
      "source": [
        "y_train"
      ],
      "metadata": {
        "execution": {
          "iopub.status.busy": "2023-10-03T20:33:35.738517Z",
          "iopub.execute_input": "2023-10-03T20:33:35.740294Z",
          "iopub.status.idle": "2023-10-03T20:33:35.750272Z",
          "shell.execute_reply.started": "2023-10-03T20:33:35.740257Z",
          "shell.execute_reply": "2023-10-03T20:33:35.749490Z"
        },
        "trusted": true,
        "id": "JWSgmK_2VuqL",
        "outputId": "0d6dcdeb-c66d-4786-ae0a-49ae55c21b0a"
      },
      "execution_count": null,
      "outputs": [
        {
          "execution_count": 8,
          "output_type": "execute_result",
          "data": {
            "text/plain": "8275     0.61\n21284    0.81\n16802    0.62\n3271     0.73\n5302     0.43\n         ... \n10955    0.58\n17289    0.39\n5192     0.24\n12172    0.18\n235      0.00\nName: Burn Rate, Length: 15138, dtype: float64"
          },
          "metadata": {}
        }
      ]
    },
    {
      "cell_type": "markdown",
      "source": [
        "# Training"
      ],
      "metadata": {
        "id": "mi-cenS5VuqL"
      }
    },
    {
      "cell_type": "code",
      "source": [
        "models = {\n",
        "    \"                     Linear Regression\": LinearRegression(),\n",
        "    \" Linear Regression (L2 Regularization)\": Ridge(),\n",
        "    \" Linear Regression (L1 Regularization)\": Lasso(),\n",
        "    \"                   K-Nearest Neighbors\": KNeighborsRegressor(),\n",
        "    \"                        Neural Network\": MLPRegressor(),\n",
        "    \"Support Vector Machine (Linear Kernel)\": LinearSVR(),\n",
        "    \"   Support Vector Machine (RBF Kernel)\": SVR(),\n",
        "    \"                         Decision Tree\": DecisionTreeRegressor(),\n",
        "    \"                         Random Forest\": RandomForestRegressor(),\n",
        "    \"                     Gradient Boosting\": GradientBoostingRegressor(),\n",
        "    \"                               XGBoost\": XGBRegressor(),\n",
        "    \"                              LightGBM\": LGBMRegressor(),\n",
        "    \"                              CatBoost\": CatBoostRegressor(verbose=0)\n",
        "}\n",
        "\n",
        "for name, model in models.items():\n",
        "    model.fit(X_train, y_train)\n",
        "    print(name + \" trained.\")"
      ],
      "metadata": {
        "execution": {
          "iopub.status.busy": "2023-10-03T20:33:35.753985Z",
          "iopub.execute_input": "2023-10-03T20:33:35.756220Z",
          "iopub.status.idle": "2023-10-03T20:33:50.706809Z",
          "shell.execute_reply.started": "2023-10-03T20:33:35.756042Z",
          "shell.execute_reply": "2023-10-03T20:33:50.706083Z"
        },
        "trusted": true,
        "id": "6G4duqP0VuqL",
        "outputId": "e0981d1c-bbde-402f-f92b-3f0d37088d13"
      },
      "execution_count": null,
      "outputs": [
        {
          "name": "stdout",
          "text": "                     Linear Regression trained.\n Linear Regression (L2 Regularization) trained.\n Linear Regression (L1 Regularization) trained.\n                   K-Nearest Neighbors trained.\n                        Neural Network trained.\nSupport Vector Machine (Linear Kernel) trained.\n   Support Vector Machine (RBF Kernel) trained.\n                         Decision Tree trained.\n                         Random Forest trained.\n                     Gradient Boosting trained.\n                               XGBoost trained.\n                              LightGBM trained.\n                              CatBoost trained.\n",
          "output_type": "stream"
        }
      ]
    },
    {
      "cell_type": "markdown",
      "source": [
        "# Results"
      ],
      "metadata": {
        "id": "6NLaRTNpVuqM"
      }
    },
    {
      "cell_type": "code",
      "source": [
        "for name, model in models.items():\n",
        "    print(name + \" R^2 Score: {:.5f}\".format(model.score(X_test, y_test)))"
      ],
      "metadata": {
        "execution": {
          "iopub.status.busy": "2023-10-03T20:33:50.710074Z",
          "iopub.execute_input": "2023-10-03T20:33:50.711753Z",
          "iopub.status.idle": "2023-10-03T20:33:51.888893Z",
          "shell.execute_reply.started": "2023-10-03T20:33:50.711719Z",
          "shell.execute_reply": "2023-10-03T20:33:51.888124Z"
        },
        "trusted": true,
        "id": "zOPZ_DB1VuqM",
        "outputId": "b16ad529-996b-4b17-cb09-6e1c09c35b13"
      },
      "execution_count": null,
      "outputs": [
        {
          "name": "stdout",
          "text": "                     Linear Regression R^2 Score: 0.87075\n Linear Regression (L2 Regularization) R^2 Score: 0.87075\n Linear Regression (L1 Regularization) R^2 Score: -0.00001\n                   K-Nearest Neighbors R^2 Score: 0.85605\n                        Neural Network R^2 Score: 0.86554\nSupport Vector Machine (Linear Kernel) R^2 Score: 0.86719\n   Support Vector Machine (RBF Kernel) R^2 Score: 0.88430\n                         Decision Tree R^2 Score: 0.81486\n                         Random Forest R^2 Score: 0.89817\n                     Gradient Boosting R^2 Score: 0.90257\n                               XGBoost R^2 Score: 0.90310\n                              LightGBM R^2 Score: 0.90912\n                              CatBoost R^2 Score: 0.90842\n",
          "output_type": "stream"
        }
      ]
    }
  ]
}